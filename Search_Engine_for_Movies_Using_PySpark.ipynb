{
  "nbformat": 4,
  "nbformat_minor": 0,
  "metadata": {
    "colab": {
      "provenance": [],
      "authorship_tag": "ABX9TyMpirjoke17fI1BJvPV8xKu",
      "include_colab_link": true
    },
    "kernelspec": {
      "name": "python3",
      "display_name": "Python 3"
    },
    "language_info": {
      "name": "python"
    }
  },
  "cells": [
    {
      "cell_type": "markdown",
      "metadata": {
        "id": "view-in-github",
        "colab_type": "text"
      },
      "source": [
        "<a href=\"https://colab.research.google.com/github/vaaraaf/Search_Engine_for_Movies_Using_PySpark/blob/main/Search_Engine_for_Movies_Using_PySpark.ipynb\" target=\"_parent\"><img src=\"https://colab.research.google.com/assets/colab-badge.svg\" alt=\"Open In Colab\"/></a>"
      ]
    },
    {
      "cell_type": "code",
      "execution_count": null,
      "metadata": {
        "colab": {
          "base_uri": "https://localhost:8080/"
        },
        "id": "nYOpbyLQZNmA",
        "outputId": "0e49ed40-1bbf-4ddc-e35e-47460d90ec96"
      },
      "outputs": [
        {
          "output_type": "stream",
          "name": "stdout",
          "text": [
            "Total Documents (N): 42306\n"
          ]
        }
      ],
      "source": [
        "from pyspark.ml.feature import StopWordsRemover\n",
        "from math import log, sqrt\n",
        "from pyspark.sql import SparkSession\n",
        "\n",
        "# Create a SparkSession\n",
        "spark = SparkSession.builder.appName(\"MovieSearch\").getOrCreate()\n",
        "# Get the SparkContext from the SparkSession\n",
        "sc = spark.sparkContext\n",
        "# Load data\n",
        "summaries = sc.textFile('./plot_summaries.txt')\n",
        "metadata = sc.textFile('./movie_metadata.tsv')\n",
        "\n",
        "# List of additional stop words to exclude\n",
        "additional_stop_words = ['movie', 'movies' , 'serie' , 'series', 'scene', 'scenes']\n",
        "\n",
        "# Get stopwords from StopWordsRemover and merge with additional stop words\n",
        "stopWords = set(StopWordsRemover().getStopWords() + additional_stop_words)\n",
        "\n",
        "# Total number of documents\n",
        "N = summaries.count()\n",
        "print(\"Total Documents (N):\", N)"
      ]
    },
    {
      "cell_type": "code",
      "source": [
        "# Function to preprocess text (lowercase, remove punctuation, strip whitespace)\n",
        "def preprocess_text(text):\n",
        "    return [word.lower().strip('.,!?()[]{}\"') for word in text.split() if word.lower() not in stopWords]\n",
        "\n",
        "# Extract movie ID and tokenized words from summaries\n",
        "doc_tf = summaries.map(lambda x: (x.split('\\t')[0], preprocess_text(x.split('\\t')[1])))\n",
        "\n",
        "# Compute term frequency (TF) for each document\n",
        "doc_tf = doc_tf.mapValues(lambda words: {word: words.count(word) for word in set(words)})\n",
        "\n",
        "# Compute document frequency (DF) for each term\n",
        "df = doc_tf.flatMap(lambda x: [(word, 1) for word in x[1].keys()]) \\\n",
        "           .reduceByKey(lambda a, b: a + b)\n",
        "\n",
        "df_dict = dict(df.collect())  # Convert DF to dictionary\n",
        "df_broadcast = sc.broadcast(df_dict)  # Broadcast for efficiency\n",
        "\n",
        "# Compute TF-IDF for each document\n",
        "tf_idf = doc_tf.map(lambda x: (x[0],\n",
        "    {word: tf * log(N / (df_broadcast.value.get(word, 1))) for word, tf in x[1].items()}\n",
        "))\n",
        "\n",
        "# Convert TF-IDF to dictionary for cosine similarity calculation\n",
        "doc_vectors = tf_idf.collectAsMap()\n",
        "\n",
        "#print(\"Sample Document TF-IDF:\", list(doc_vectors.items())[:2])  # Debugging line"
      ],
      "metadata": {
        "id": "I1g2ZY8XdYMY"
      },
      "execution_count": null,
      "outputs": []
    },
    {
      "cell_type": "code",
      "source": [
        "query = input(\"Enter your search query: \").strip().lower()\n",
        "query_words = preprocess_text(query)\n",
        "\n",
        "if len(query_words) == 1:\n",
        "    # -------------------- SINGLE-WORD QUERY (Part A) --------------------\n",
        "    search_word = query_words[0]\n",
        "\n",
        "    # Compute TF-IDF scores for the given word\n",
        "    word_tf_idf = tf_idf.flatMap(lambda x: [(x[0], x[1].get(search_word, 0))])\n",
        "\n",
        "    # Get top 10 documents by highest TF-IDF score\n",
        "    top_10_ids = word_tf_idf.sortBy(lambda x: -x[1]).take(10)\n",
        "\n",
        "    print(\"Using TF-IDF ranking for:\", search_word) # Debugging line\n",
        "\n",
        "else:\n",
        "    # -------------------- MULTI-WORD QUERY (Part B) --------------------\n",
        "\n",
        "    # Compute query TF\n",
        "    query_tf = {word: query_words.count(word) for word in set(query_words)}\n",
        "\n",
        "    # Compute query TF-IDF using the same IDF values as documents\n",
        "    query_tf_idf = {word: query_tf[word] * log(N / (df_broadcast.value.get(word, 1)))\n",
        "                    for word in query_tf}\n",
        "\n",
        "    #print(\"Query TF-IDF:\", query_tf_idf) # Debugging line\n",
        "\n",
        "    # Function to compute cosine similarity\n",
        "    def cosine_similarity(doc_vector, query_vector):\n",
        "        common_words = set(doc_vector.keys()).intersection(query_vector.keys())\n",
        "        #print(f\"Common words: {common_words}\")  # Debugging line\n",
        "        if not common_words:\n",
        "            return 0  # No similarity if there are no matching words\n",
        "\n",
        "        dot_product = sum(doc_vector[word] * query_vector[word] for word in common_words)\n",
        "        doc_norm = sqrt(sum(value ** 2 for value in doc_vector.values()))\n",
        "        query_norm = sqrt(sum(value ** 2 for value in query_vector.values()))\n",
        "\n",
        "        return dot_product / (doc_norm * query_norm) if doc_norm and query_norm else 0\n",
        "\n",
        "    # Compute cosine similarity for all documents\n",
        "    cosine_similarities = [(doc_id, cosine_similarity(doc_vector, query_tf_idf))\n",
        "                            for doc_id, doc_vector in doc_vectors.items()]\n",
        "\n",
        "    # Get top 10 documents with highest cosine similarity\n",
        "    top_10_ids = sorted(cosine_similarities, key=lambda x: -x[1])[:10]\n",
        "\n",
        "    print(\"Using Cosine Similarity for:\", query) # Debugging line"
      ],
      "metadata": {
        "colab": {
          "base_uri": "https://localhost:8080/"
        },
        "id": "Yb1EQpNGdZUX",
        "outputId": "a2f1682d-839f-4eda-80ef-c747a069620f"
      },
      "execution_count": null,
      "outputs": [
        {
          "output_type": "stream",
          "name": "stdout",
          "text": [
            "Enter your search query: taxi\n",
            "Using TF-IDF ranking for: taxi\n"
          ]
        }
      ]
    },
    {
      "cell_type": "code",
      "source": [
        "# Load metadata to map movie IDs to movie titles\n",
        "metadata_rdd = metadata.map(lambda x: (x.split('\\t')[0], x.split('\\t')[2]))\n",
        "metadata_dict = dict(metadata_rdd.collect())  # Convert to dictionary\n",
        "\n",
        "# Get the top 10 documents with their IDs and scores\n",
        "top_10_movies_with_scores = [\n",
        "    (metadata_dict.get(doc_id, \"Unknown\"), score)\n",
        "    for doc_id, score in top_10_ids\n",
        "]\n",
        "\n",
        "# Print in the desired format: Movie name (Score: score)\n",
        "print(\"Top 10 Relevant Movies:\")\n",
        "for movie, score in top_10_movies_with_scores:\n",
        "    print(f\"{movie} (Score: {score:.4f})\")"
      ],
      "metadata": {
        "colab": {
          "base_uri": "https://localhost:8080/"
        },
        "id": "it3p0DgimGnO",
        "outputId": "6fa3e4ce-616c-4d8b-a1ff-66ae501d3f93"
      },
      "execution_count": null,
      "outputs": [
        {
          "output_type": "stream",
          "name": "stdout",
          "text": [
            "Top 10 Relevant Movies:\n",
            "If Only (Score: 54.0506)\n",
            "Decalogue V (Score: 36.0337)\n",
            "Devudu Chesina Manushulu (Score: 31.5295)\n",
            "Unnaruge Naan Irundhal (Score: 22.5211)\n",
            "Midnight (Score: 22.5211)\n",
            "All a Bir-r-r-rd (Score: 22.5211)\n",
            "Ghost Dad (Score: 22.5211)\n",
            "Man on the Moon (Score: 22.5211)\n",
            "One Cab's Family (Score: 22.5211)\n",
            "Marriage With a Fool (Score: 22.5211)\n"
          ]
        }
      ]
    },
    {
      "cell_type": "code",
      "source": [],
      "metadata": {
        "id": "zpeUNiRB1E1A"
      },
      "execution_count": null,
      "outputs": []
    }
  ]
}